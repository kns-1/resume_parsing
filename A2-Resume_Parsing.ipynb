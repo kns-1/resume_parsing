{
 "cells": [
  {
   "cell_type": "code",
   "execution_count": 3,
   "metadata": {},
   "outputs": [
    {
     "name": "stdout",
     "output_type": "stream",
     "text": [
      "<_sre.SRE_Match object; span=(210, 231), match='navyakovuru@gmail.com'>\n"
     ]
    }
   ],
   "source": [
    "import tika\n",
    "from tika import parser\n",
    "import re\n",
    "class ResumeParsing:\n",
    "    def parseAnyFile():\n",
    "        tika.initVM()\n",
    "        parsed = parser.from_file(\"resume.docx\")\n",
    "       # print(parsed[\"content\"])\n",
    "        regular_expression = re.compile(r\"[A-Z0-9._%+-]+@[A-Z0-9.-]+\\.[A-Z]{2,4}\", re.IGNORECASE)\n",
    "        result = re.search(regular_expression,parsed[\"content\"])\n",
    "        print(result)\n",
    "    if __name__==\"__main__\":\n",
    "        parseAnyFile()\n"
   ]
  },
  {
   "cell_type": "code",
   "execution_count": 4,
   "metadata": {},
   "outputs": [
    {
     "name": "stdout",
     "output_type": "stream",
     "text": [
      "<_sre.SRE_Match object; span=(183, 193), match='8790261800'>\n"
     ]
    }
   ],
   "source": [
    "import tika\n",
    "from tika import parser\n",
    "import re\n",
    "class ResumeParsing:\n",
    "    def parseAnyFile():\n",
    "        tika.initVM()\n",
    "        parsed = parser.from_file(\"resume.docx\")\n",
    "       # print(parsed[\"content\"])\n",
    "        regular_expression = re.compile(r\"[0-9]{10}\", re.IGNORECASE)\n",
    "        result = re.search(regular_expression,parsed[\"content\"])\n",
    "        print(result)\n",
    "    if __name__==\"__main__\":\n",
    "        parseAnyFile()\n"
   ]
  },
  {
   "cell_type": "code",
   "execution_count": 131,
   "metadata": {},
   "outputs": [
    {
     "name": "stdout",
     "output_type": "stream",
     "text": [
      "<_sre.SRE_Match object; span=(105, 163), match='12-5-5/1, Vijayapuri Colony, Tarnaka, Secunderaba>\n"
     ]
    }
   ],
   "source": [
    "import tika\n",
    "from tika import parser\n",
    "import re\n",
    "class ResumeParsing:\n",
    "    def parseAnyFile():\n",
    "        tika.initVM()\n",
    "        parsed = parser.from_file(\"resume.docx\")\n",
    "        #print(parsed[\"content\"])\n",
    "        regular_expression = re.compile(r\"[0-9-/,]{9}[A-Z ,]{1,50}[0-9]{6}\", re.IGNORECASE)\n",
    "        result = re.search(regular_expression,parsed[\"content\"])\n",
    "        print(result)\n",
    "    if __name__==\"__main__\":\n",
    "        parseAnyFile()\n"
   ]
  },
  {
   "cell_type": "code",
   "execution_count": null,
   "metadata": {
    "collapsed": true
   },
   "outputs": [],
   "source": []
  },
  {
   "cell_type": "code",
   "execution_count": null,
   "metadata": {
    "collapsed": true
   },
   "outputs": [],
   "source": []
  }
 ],
 "metadata": {
  "kernelspec": {
   "display_name": "Python 3",
   "language": "python",
   "name": "python3"
  },
  "language_info": {
   "codemirror_mode": {
    "name": "ipython",
    "version": 3
   },
   "file_extension": ".py",
   "mimetype": "text/x-python",
   "name": "python",
   "nbconvert_exporter": "python",
   "pygments_lexer": "ipython3",
   "version": "3.6.1"
  }
 },
 "nbformat": 4,
 "nbformat_minor": 2
}
